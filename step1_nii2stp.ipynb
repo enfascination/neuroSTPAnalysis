{
 "cells": [
  {
   "cell_type": "code",
   "execution_count": 7,
   "metadata": {
    "ExecuteTime": {
     "end_time": "2018-05-15T04:05:28.752718Z",
     "start_time": "2018-05-15T04:05:28.709849Z"
    }
   },
   "outputs": [
    {
     "name": "stdout",
     "output_type": "stream",
     "text": [
      "16.0\n",
      "8\n",
      "time: 21.5 ms\n"
     ]
    }
   ],
   "source": [
    "# %load /Users/Esh/standard_imports.ipy\n",
    "from local_settings import * \n",
    "\n",
    "import os\n",
    "import sys\n",
    "from glob import glob\n",
    "import pdb\n",
    "import logging\n",
    "logging.basicConfig(level=logging.DEBUG)\n",
    "\n",
    "import numpy as np\n",
    "from numpy import inf\n",
    "from numpy.core.defchararray import startswith\n",
    "import scipy.stats as stats\n",
    "import pandas as pd\n",
    "#import matplotlib.pyplot as plt\n",
    "#import seaborn as sns\n",
    "\n",
    "from nltools.data import Brain_Data, Design_Matrix\n",
    "\n",
    "### tisean code\n",
    "from pytisean import tiseanio\n",
    "\n",
    "from psutil import virtual_memory\n",
    "import multiprocessing\n",
    "mem = virtual_memory()\n",
    "logging.debug(mem.total/1024/1024/1024)  # total physical memory available in GB\n",
    "logging.debug(multiprocessing.cpu_count()) #number of CPUs\n",
    "\n",
    "#%matplotlib inline"
   ]
  },
  {
   "cell_type": "code",
   "execution_count": 9,
   "metadata": {
    "ExecuteTime": {
     "end_time": "2018-05-15T04:05:33.564933Z",
     "start_time": "2018-05-15T04:05:33.518060Z"
    }
   },
   "outputs": [
    {
     "name": "stdout",
     "output_type": "stream",
     "text": [
      "time: 24.7 ms\n"
     ]
    }
   ],
   "source": [
    "def fileGetter(preproc_dir,subject_id,episode):\n",
    "    \"\"\"\n",
    "    Quick file getter to traverse study tree and return subject epi and covariates file paths\n",
    "    for a given episode.\n",
    "    \n",
    "    Args:\n",
    "        data_dir (str): parent directory of onsets files (usually same as raw data)\n",
    "        preproc_dir (str): parent directory of covariates files (usually same as preproc outputs)\n",
    "        subject_id (str): subject scan-name (should be same as folder name for a subject)\n",
    "        episode (int): what episode to grab files for \n",
    "    \n",
    "    Returns:\n",
    "        covFiles (list): covariate file path\n",
    "        funcFiles (list): nifti file paths    \n",
    "        \n",
    "    \"\"\"\n",
    "    episode = str(episode)\n",
    "        \n",
    "    funcFiles = glob(os.path.join(preproc_dir, subject_id,'functional','_fwhm_6.0','*nii.gz'))\n",
    "    covFiles = glob(os.path.join(preproc_dir,subject_id,'functional', 'covariates.csv'))\n",
    "    #covFiles = glob(os.path.join(preproc_dir,subject_id,'functional','ep0'+episode+'*','cov*'))\n",
    "    #funcFiles = glob(os.path.join(preproc_dir,subject_id,'functional','ep0'+episode+'*','*int16.nii.gz'))\n",
    "    \n",
    "    return covFiles, funcFiles"
   ]
  },
  {
   "cell_type": "code",
   "execution_count": 12,
   "metadata": {
    "ExecuteTime": {
     "end_time": "2018-05-15T04:07:41.099857Z",
     "start_time": "2018-05-15T04:07:40.946248Z"
    }
   },
   "outputs": [
    {
     "name": "stdout",
     "output_type": "stream",
     "text": [
      "time: 46.8 ms\n"
     ]
    }
   ],
   "source": [
    "def stpw(ts, dspace=10, dtime=100, carefully=True):\n",
    "    pct = 1.0 / dspace\n",
    "    out, _ = tiseanio('stp', '-d1', '-m4', '-t{}'.format(dtime), '-#1', '-%{}'.format(pct), data=ts, silent=not carefully)\n",
    "    nonzero_count = (dspace * dtime)\n",
    "    zero_count = out.shape[0] - (dspace * dtime)\n",
    "    out_zeros = out[nonzero_count:len(out), :]\n",
    "    out = out[0:nonzero_count, :]\n",
    "    #print(out[:,1])\n",
    "    #print(out_zeros[:,1])\n",
    "    ### test (keep carefully true for the foreseeable until I know my pct calucs are clean)\n",
    "    if carefully:\n",
    "        assert pct <= 1 and pct > 0\n",
    "        assert dspace >=1 \n",
    "        assert len(out) == nonzero_count, (len(out), nonzero_count, dspace, dtime)\n",
    "        assert len(out_zeros) == zero_count, (len(out_zeros), zero_count, dspace, dtime)\n",
    "        # vvv this test is wierd and not really necessary and most important I can't get it working\n",
    "        #assert np.all(0 == np.around(out_zeros[:,1],10)), stats.describe(np.around(out_zeros[:,1],10))\n",
    "        assert np.all(0 != out[:,1]), out\n",
    "    out[out == -inf] = 0\n",
    "    out[out == inf] = 0\n",
    "    out = np.nan_to_num(out)\n",
    "    out = pd.DataFrame(out, columns=[\"time_dist\", \"dist_val\"])\n",
    "    out = out.assign( phasespace_dist = np.repeat((np.arange(dspace)+1)/dspace, dtime))\n",
    "    return(out)\n",
    "\n",
    "def recurrw(ts):\n",
    "    out, _ = tiseanio('recurr', '-d1', data=ts )\n",
    "    out[out == -inf] = 0\n",
    "    out[out == inf] = 0\n",
    "    out = np.nan_to_num(out)\n",
    "    return(out)\n"
   ]
  },
  {
   "cell_type": "code",
   "execution_count": 925,
   "metadata": {
    "ExecuteTime": {
     "end_time": "2018-05-11T21:59:39.514138Z",
     "start_time": "2018-05-11T21:59:39.425361Z"
    }
   },
   "outputs": [
    {
     "name": "stdout",
     "output_type": "stream",
     "text": [
      "time: 5.16 ms\n"
     ]
    }
   ],
   "source": [
    "def findsorted(haystack_srtd, needle, carefully=False):\n",
    "    if carefully:\n",
    "        assert np.all(np.sort(haystack_srtd) == haystack_srtd)\n",
    "    ix = np.searchsorted(haystack_srtd, needle)\n",
    "    if ix == len(haystack_srtd):\n",
    "        out = False\n",
    "    elif needle != haystack_srtd[ix]:\n",
    "        out = False\n",
    "    else:\n",
    "        out = True\n",
    "    return(out)"
   ]
  },
  {
   "cell_type": "code",
   "execution_count": 8,
   "metadata": {
    "ExecuteTime": {
     "end_time": "2018-05-15T04:05:30.928774Z",
     "start_time": "2018-05-15T04:05:30.741702Z"
    }
   },
   "outputs": [
    {
     "name": "stdout",
     "output_type": "stream",
     "text": [
      "time: 165 ms\n"
     ]
    }
   ],
   "source": [
    "import argparse\n",
    "parser = argparse.ArgumentParser()\n",
    "parser.add_argument('--sub', help='subject index (integer)')\n",
    "sub_list = [d for d in os.listdir(preproc_dir) if not d.startswith('.')]\n",
    "#sub_list = [\"sub-sid000216\", \"sub-sid000476\", \"sub-sid000529\", \"sub-sid000668\", \"sub-sid000678\", \"sub-sid000682\"]\n",
    "nSub = len(sub_list)\n",
    "subject_id = parser.parse_args()['sub']\n",
    "subject_id = sub_list[4]\n",
    "\n",
    "episodes = [1,2]\n",
    "episodes = [1,]\n",
    "episode = 1\n",
    "TR = 2.0\n",
    "smooth = '6mm'\n",
    "\n",
    "max_dtime = 576\n",
    "\n",
    "csf = Brain_Data(os.path.join(base_dir,'masks','csf.nii.gz'))"
   ]
  },
  {
   "cell_type": "code",
   "execution_count": 13,
   "metadata": {
    "ExecuteTime": {
     "end_time": "2018-05-15T04:09:29.666004Z",
     "start_time": "2018-05-15T04:07:41.102264Z"
    }
   },
   "outputs": [
    {
     "name": "stdout",
     "output_type": "stream",
     "text": [
      "Loading brain data: 6mm\n"
     ]
    },
    {
     "name": "stderr",
     "output_type": "stream",
     "text": [
      "/Users/sfrey/anaconda/envs/neuro/lib/python3.6/site-packages/nltools-0.3.7-py3.6.egg/nltools/stats.py:783: RuntimeWarning: invalid value encountered in true_divide\n",
      "  t = b / stderr\n",
      "/Users/sfrey/anaconda/envs/neuro/lib/python3.6/site-packages/scipy/stats/_distn_infrastructure.py:879: RuntimeWarning: invalid value encountered in greater\n",
      "  return (self.a < x) & (x < self.b)\n",
      "/Users/sfrey/anaconda/envs/neuro/lib/python3.6/site-packages/scipy/stats/_distn_infrastructure.py:879: RuntimeWarning: invalid value encountered in less\n",
      "  return (self.a < x) & (x < self.b)\n",
      "/Users/sfrey/anaconda/envs/neuro/lib/python3.6/site-packages/scipy/stats/_distn_infrastructure.py:1738: RuntimeWarning: invalid value encountered in greater_equal\n",
      "  cond2 = (x >= self.b) & cond0\n"
     ]
    },
    {
     "name": "stdout",
     "output_type": "stream",
     "text": [
      "time: 1min 48s\n"
     ]
    }
   ],
   "source": [
    "# Get data and covariates file and create nuisance design matrix\n",
    "print(preproc_dir, subject_id, episode)\n",
    "sub_cov, sub_epi = fileGetter(preproc_dir,subject_id,episode)\n",
    "\n",
    "#Load run data\n",
    "print(\"Loading brain data: {}\".format(smooth))\n",
    "dat = Brain_Data(sub_epi)\n",
    "\n",
    "cov_mat = Design_Matrix(pd.read_csv(sub_cov[0]).fillna(0), sampling_rate=TR)\n",
    "# Add Intercept\n",
    "cov_mat['Intercept'] = 1\n",
    "# Add Linear Trend\n",
    "cov_mat['LinearTrend'] = range(cov_mat.shape[0])-np.mean(range(cov_mat.shape[0]))\n",
    "cov_mat['QuadraticTrend'] = cov_mat['LinearTrend']**2\n",
    "cov_mat['CSF'] = dat.extract_roi(csf.threshold(.85,binarize=True))\n",
    "\n",
    "assert cov_mat.shape[0] == dat.shape()[0]\n",
    "spikeless_idx =  np.logical_not( startswith(cov_mat.columns.values.astype(str), \"spike\") | startswith(cov_mat.columns.values.astype(str), \"FD\") )\n",
    "#dat.X = cov_mat\n",
    "dat.X = cov_mat.loc[:,spikeless_idx]\n",
    "datcln = dat.regress()['residual']"
   ]
  },
  {
   "cell_type": "code",
   "execution_count": 14,
   "metadata": {
    "ExecuteTime": {
     "end_time": "2018-05-15T04:19:11.202897Z",
     "start_time": "2018-05-15T04:19:04.457311Z"
    }
   },
   "outputs": [
    {
     "name": "stdout",
     "output_type": "stream",
     "text": [
      "time: 6.63 s\n"
     ]
    }
   ],
   "source": [
    "zero_voxels = np.apply_along_axis(lambda x: np.count_nonzero(x) == 0, axis=0, arr=datcln.data)\n",
    "zero_voxels = np.arange(datcln.data.shape[1])[zero_voxels]"
   ]
  },
  {
   "cell_type": "code",
   "execution_count": 29,
   "metadata": {
    "ExecuteTime": {
     "end_time": "2018-05-15T05:11:15.110259Z",
     "start_time": "2018-05-15T05:11:08.066246Z"
    }
   },
   "outputs": [
    {
     "name": "stdout",
     "output_type": "stream",
     "text": [
      "time: 7.02 s\n"
     ]
    }
   ],
   "source": [
    "#del dat\n",
    "### voxel-level parameter maps\n",
    "#cols = np.arange(datcln.data.shape[1])\n",
    "cols = np.random.randint(low=0,high=datcln.data.shape[1],size=20)\n",
    "stpl = []\n",
    "nBatch = 10\n",
    "out_file = os.path.join(path_dataout,'1_{}_ep{}_voxel2stp.csv.gz'.format(subject_id, episode))\n",
    "out_header = [\"voxel\", \"phasespace_dist\", \"time_dist\", \"dist_val\"]\n",
    "vstp = pd.DataFrame(columns=out_header)\n",
    "vstp.to_csv(out_file, encoding=\"utf-8\", compression=\"gzip\", index=False)\n",
    "for col in cols:\n",
    "    if len(stpl) == nBatch or col == cols[-1] :\n",
    "        stpl = pd.concat(stpl)\n",
    "        stpl.to_csv(out_file, mode=\"a\", header=False, encoding=\"utf-8\", compression=\"gzip\", index=False)\n",
    "        stpl = []\n",
    "    if np.count_nonzero(datcln.data[:,col]) == 0:\n",
    "        logging.debug(\"skipping col {} for zeros\".format(col))\n",
    "        continue\n",
    "    vstp = stpw(datcln.data[:,col], dspace=10, dtime=576, carefully=False)\n",
    "    vstp = vstp.loc[np.where(vstp.phasespace_dist.isin([0.1, 0.5, 1.0]))]\n",
    "    vstp = vstp.assign(voxel=col)\n",
    "    vstp = vstp.loc[:,out_header]\n",
    "    stpl.append( vstp )\n",
    "    del vstp\n",
    "#del datcln"
   ]
  },
  {
   "cell_type": "code",
   "execution_count": null,
   "metadata": {
    "ExecuteTime": {
     "start_time": "2018-05-01T19:34:44.350Z"
    },
    "collapsed": true
   },
   "outputs": [],
   "source": [
    "elapsed = (getSecs()-sTime)/60.\n",
    "logging.info(\"Analysis complete in: %.2f minutes\" % elapsed)"
   ]
  }
 ],
 "metadata": {
  "kernelspec": {
   "display_name": "Python 3",
   "language": "python",
   "name": "python3"
  },
  "language_info": {
   "codemirror_mode": {
    "name": "ipython",
    "version": 3
   },
   "file_extension": ".py",
   "mimetype": "text/x-python",
   "name": "python",
   "nbconvert_exporter": "python",
   "pygments_lexer": "ipython3",
   "version": "3.6.2"
  },
  "toc": {
   "toc_cell": false,
   "toc_number_sections": true,
   "toc_threshold": 6,
   "toc_window_display": false
  }
 },
 "nbformat": 4,
 "nbformat_minor": 2
}
